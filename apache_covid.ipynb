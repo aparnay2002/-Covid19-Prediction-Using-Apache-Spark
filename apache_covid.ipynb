{
  "nbformat": 4,
  "nbformat_minor": 0,
  "metadata": {
    "colab": {
      "name": "apache_covid.ipynb",
      "provenance": [],
      "authorship_tag": "ABX9TyOThHehJcVZsJTBQN5PnPWd",
      "include_colab_link": true
    },
    "kernelspec": {
      "name": "python3",
      "display_name": "Python 3"
    },
    "language_info": {
      "name": "python"
    }
  },
  "cells": [
    {
      "cell_type": "markdown",
      "metadata": {
        "id": "view-in-github",
        "colab_type": "text"
      },
      "source": [
        "<a href=\"https://colab.research.google.com/github/aparnay2002/-Covid19-Prediction-Using-Apache-Spark/blob/main/apache_covid.ipynb\" target=\"_parent\"><img src=\"https://colab.research.google.com/assets/colab-badge.svg\" alt=\"Open In Colab\"/></a>"
      ]
    },
    {
      "cell_type": "code",
      "execution_count": null,
      "metadata": {
        "colab": {
          "base_uri": "https://localhost:8080/"
        },
        "id": "QHCbuKjBxVbv",
        "outputId": "55970bea-6d79-48a9-e74a-f51cdb1e27c4"
      },
      "outputs": [
        {
          "output_type": "stream",
          "name": "stdout",
          "text": [
            "Requirement already satisfied: pyspark in /usr/local/lib/python3.7/dist-packages (3.2.1)\n",
            "Requirement already satisfied: py4j==0.10.9.3 in /usr/local/lib/python3.7/dist-packages (from pyspark) (0.10.9.3)\n",
            "Requirement already satisfied: findspark in /usr/local/lib/python3.7/dist-packages (2.0.1)\n"
          ]
        }
      ],
      "source": [
        "!pip install pyspark\n",
        "!pip install findspark\n",
        "import findspark\n",
        "findspark.init()\n",
        "\n",
        "import pyspark\n",
        "from pyspark.sql import SparkSession, SQLContext\n",
        "\n",
        "spark = SparkSession.builder.appName(\"Covid Data Mining\").config('spark.sql.debug.maxToStringFields', 2000).getOrCreate()\n"
      ]
    },
    {
      "cell_type": "code",
      "source": [
        "file = 'owid-covid-data.csv'\n",
        "full_df = spark.read.csv(file, header=True, inferSchema=True)"
      ],
      "metadata": {
        "id": "fiPL1rC8xg4M"
      },
      "execution_count": null,
      "outputs": []
    },
    {
      "cell_type": "code",
      "source": [
        "print(f\"The total number of samples is {full_df.count()}, with each sample corresponding to {len(full_df.columns)} features.\")\n",
        "full_df.printSchema()"
      ],
      "metadata": {
        "colab": {
          "base_uri": "https://localhost:8080/"
        },
        "id": "_ZRHTuFsxg6t",
        "outputId": "e5642240-5389-425f-99e5-be7f9940f902"
      },
      "execution_count": null,
      "outputs": [
        {
          "output_type": "stream",
          "name": "stdout",
          "text": [
            "The total number of samples is 176224, with each sample corresponding to 67 features.\n",
            "root\n",
            " |-- iso_code: string (nullable = true)\n",
            " |-- continent: string (nullable = true)\n",
            " |-- location: string (nullable = true)\n",
            " |-- date: string (nullable = true)\n",
            " |-- total_cases: double (nullable = true)\n",
            " |-- new_cases: double (nullable = true)\n",
            " |-- new_cases_smoothed: double (nullable = true)\n",
            " |-- total_deaths: double (nullable = true)\n",
            " |-- new_deaths: double (nullable = true)\n",
            " |-- new_deaths_smoothed: double (nullable = true)\n",
            " |-- total_cases_per_million: double (nullable = true)\n",
            " |-- new_cases_per_million: double (nullable = true)\n",
            " |-- new_cases_smoothed_per_million: double (nullable = true)\n",
            " |-- total_deaths_per_million: double (nullable = true)\n",
            " |-- new_deaths_per_million: double (nullable = true)\n",
            " |-- new_deaths_smoothed_per_million: double (nullable = true)\n",
            " |-- reproduction_rate: double (nullable = true)\n",
            " |-- icu_patients: double (nullable = true)\n",
            " |-- icu_patients_per_million: double (nullable = true)\n",
            " |-- hosp_patients: double (nullable = true)\n",
            " |-- hosp_patients_per_million: double (nullable = true)\n",
            " |-- weekly_icu_admissions: double (nullable = true)\n",
            " |-- weekly_icu_admissions_per_million: double (nullable = true)\n",
            " |-- weekly_hosp_admissions: double (nullable = true)\n",
            " |-- weekly_hosp_admissions_per_million: double (nullable = true)\n",
            " |-- total_tests: double (nullable = true)\n",
            " |-- new_tests: double (nullable = true)\n",
            " |-- total_tests_per_thousand: double (nullable = true)\n",
            " |-- new_tests_per_thousand: double (nullable = true)\n",
            " |-- new_tests_smoothed: double (nullable = true)\n",
            " |-- new_tests_smoothed_per_thousand: double (nullable = true)\n",
            " |-- positive_rate: double (nullable = true)\n",
            " |-- tests_per_case: double (nullable = true)\n",
            " |-- tests_units: string (nullable = true)\n",
            " |-- total_vaccinations: double (nullable = true)\n",
            " |-- people_vaccinated: double (nullable = true)\n",
            " |-- people_fully_vaccinated: double (nullable = true)\n",
            " |-- total_boosters: double (nullable = true)\n",
            " |-- new_vaccinations: double (nullable = true)\n",
            " |-- new_vaccinations_smoothed: double (nullable = true)\n",
            " |-- total_vaccinations_per_hundred: double (nullable = true)\n",
            " |-- people_vaccinated_per_hundred: double (nullable = true)\n",
            " |-- people_fully_vaccinated_per_hundred: double (nullable = true)\n",
            " |-- total_boosters_per_hundred: double (nullable = true)\n",
            " |-- new_vaccinations_smoothed_per_million: double (nullable = true)\n",
            " |-- new_people_vaccinated_smoothed: double (nullable = true)\n",
            " |-- new_people_vaccinated_smoothed_per_hundred: double (nullable = true)\n",
            " |-- stringency_index: double (nullable = true)\n",
            " |-- population: double (nullable = true)\n",
            " |-- population_density: double (nullable = true)\n",
            " |-- median_age: double (nullable = true)\n",
            " |-- aged_65_older: double (nullable = true)\n",
            " |-- aged_70_older: double (nullable = true)\n",
            " |-- gdp_per_capita: double (nullable = true)\n",
            " |-- extreme_poverty: double (nullable = true)\n",
            " |-- cardiovasc_death_rate: double (nullable = true)\n",
            " |-- diabetes_prevalence: double (nullable = true)\n",
            " |-- female_smokers: double (nullable = true)\n",
            " |-- male_smokers: double (nullable = true)\n",
            " |-- handwashing_facilities: double (nullable = true)\n",
            " |-- hospital_beds_per_thousand: double (nullable = true)\n",
            " |-- life_expectancy: double (nullable = true)\n",
            " |-- human_development_index: double (nullable = true)\n",
            " |-- excess_mortality_cumulative_absolute: double (nullable = true)\n",
            " |-- excess_mortality_cumulative: double (nullable = true)\n",
            " |-- excess_mortality: double (nullable = true)\n",
            " |-- excess_mortality_cumulative_per_million: double (nullable = true)\n",
            "\n"
          ]
        }
      ]
    },
    {
      "cell_type": "code",
      "source": [
        "full_df.select(\"iso_code\",\"location\",\"continent\",\"date\",\"tests_units\").show(5)"
      ],
      "metadata": {
        "colab": {
          "base_uri": "https://localhost:8080/"
        },
        "id": "h3ClizA3xg9u",
        "outputId": "a341d525-632c-4f35-984f-0a0feff24c85"
      },
      "execution_count": null,
      "outputs": [
        {
          "output_type": "stream",
          "name": "stdout",
          "text": [
            "+--------+-----------+---------+----------+-----------+\n",
            "|iso_code|   location|continent|      date|tests_units|\n",
            "+--------+-----------+---------+----------+-----------+\n",
            "|     AFG|Afghanistan|     Asia|2020-02-24|       null|\n",
            "|     AFG|Afghanistan|     Asia|2020-02-25|       null|\n",
            "|     AFG|Afghanistan|     Asia|2020-02-26|       null|\n",
            "|     AFG|Afghanistan|     Asia|2020-02-27|       null|\n",
            "|     AFG|Afghanistan|     Asia|2020-02-28|       null|\n",
            "+--------+-----------+---------+----------+-----------+\n",
            "only showing top 5 rows\n",
            "\n"
          ]
        }
      ]
    },
    {
      "cell_type": "code",
      "source": [
        "from pyspark.sql import functions as F\n",
        "\n",
        "miss_vals = full_df.select([F.count(F.when(F.isnull(c), c)).alias(c) for c in full_df.columns]).collect()[0].asDict()\n",
        "miss_vals = dict(sorted(miss_vals.items(), reverse=True, key=lambda item: item[1]))\n",
        "\n",
        "import pandas as pd\n",
        "\n",
        "pd.DataFrame.from_records([miss_vals])"
      ],
      "metadata": {
        "colab": {
          "base_uri": "https://localhost:8080/",
          "height": 174
        },
        "id": "om4vWGOJxhAX",
        "outputId": "2cb23a9f-e3e6-4214-e6e3-1c119f08edbf"
      },
      "execution_count": null,
      "outputs": [
        {
          "output_type": "execute_result",
          "data": {
            "text/plain": [
              "   weekly_icu_admissions  weekly_icu_admissions_per_million  \\\n",
              "0                 170498                             170498   \n",
              "\n",
              "   excess_mortality_cumulative_absolute  excess_mortality_cumulative  \\\n",
              "0                                170201                       170201   \n",
              "\n",
              "   excess_mortality  excess_mortality_cumulative_per_million  \\\n",
              "0            170201                                   170201   \n",
              "\n",
              "   weekly_hosp_admissions  weekly_hosp_admissions_per_million  total_boosters  \\\n",
              "0                  164813                              164813          155973   \n",
              "\n",
              "   total_boosters_per_hundred  ...  new_cases_smoothed_per_million  \\\n",
              "0                      155973  ...                            9320   \n",
              "\n",
              "   new_cases_smoothed  new_cases_per_million  total_cases_per_million  \\\n",
              "0                8539                   7331                     7106   \n",
              "\n",
              "   new_cases  total_cases  population  iso_code  location  date  \n",
              "0       6544         6319        1104         0         0     0  \n",
              "\n",
              "[1 rows x 67 columns]"
            ],
            "text/html": [
              "\n",
              "  <div id=\"df-3b02b449-880c-4965-84f8-720214b2accc\">\n",
              "    <div class=\"colab-df-container\">\n",
              "      <div>\n",
              "<style scoped>\n",
              "    .dataframe tbody tr th:only-of-type {\n",
              "        vertical-align: middle;\n",
              "    }\n",
              "\n",
              "    .dataframe tbody tr th {\n",
              "        vertical-align: top;\n",
              "    }\n",
              "\n",
              "    .dataframe thead th {\n",
              "        text-align: right;\n",
              "    }\n",
              "</style>\n",
              "<table border=\"1\" class=\"dataframe\">\n",
              "  <thead>\n",
              "    <tr style=\"text-align: right;\">\n",
              "      <th></th>\n",
              "      <th>weekly_icu_admissions</th>\n",
              "      <th>weekly_icu_admissions_per_million</th>\n",
              "      <th>excess_mortality_cumulative_absolute</th>\n",
              "      <th>excess_mortality_cumulative</th>\n",
              "      <th>excess_mortality</th>\n",
              "      <th>excess_mortality_cumulative_per_million</th>\n",
              "      <th>weekly_hosp_admissions</th>\n",
              "      <th>weekly_hosp_admissions_per_million</th>\n",
              "      <th>total_boosters</th>\n",
              "      <th>total_boosters_per_hundred</th>\n",
              "      <th>...</th>\n",
              "      <th>new_cases_smoothed_per_million</th>\n",
              "      <th>new_cases_smoothed</th>\n",
              "      <th>new_cases_per_million</th>\n",
              "      <th>total_cases_per_million</th>\n",
              "      <th>new_cases</th>\n",
              "      <th>total_cases</th>\n",
              "      <th>population</th>\n",
              "      <th>iso_code</th>\n",
              "      <th>location</th>\n",
              "      <th>date</th>\n",
              "    </tr>\n",
              "  </thead>\n",
              "  <tbody>\n",
              "    <tr>\n",
              "      <th>0</th>\n",
              "      <td>170498</td>\n",
              "      <td>170498</td>\n",
              "      <td>170201</td>\n",
              "      <td>170201</td>\n",
              "      <td>170201</td>\n",
              "      <td>170201</td>\n",
              "      <td>164813</td>\n",
              "      <td>164813</td>\n",
              "      <td>155973</td>\n",
              "      <td>155973</td>\n",
              "      <td>...</td>\n",
              "      <td>9320</td>\n",
              "      <td>8539</td>\n",
              "      <td>7331</td>\n",
              "      <td>7106</td>\n",
              "      <td>6544</td>\n",
              "      <td>6319</td>\n",
              "      <td>1104</td>\n",
              "      <td>0</td>\n",
              "      <td>0</td>\n",
              "      <td>0</td>\n",
              "    </tr>\n",
              "  </tbody>\n",
              "</table>\n",
              "<p>1 rows × 67 columns</p>\n",
              "</div>\n",
              "      <button class=\"colab-df-convert\" onclick=\"convertToInteractive('df-3b02b449-880c-4965-84f8-720214b2accc')\"\n",
              "              title=\"Convert this dataframe to an interactive table.\"\n",
              "              style=\"display:none;\">\n",
              "        \n",
              "  <svg xmlns=\"http://www.w3.org/2000/svg\" height=\"24px\"viewBox=\"0 0 24 24\"\n",
              "       width=\"24px\">\n",
              "    <path d=\"M0 0h24v24H0V0z\" fill=\"none\"/>\n",
              "    <path d=\"M18.56 5.44l.94 2.06.94-2.06 2.06-.94-2.06-.94-.94-2.06-.94 2.06-2.06.94zm-11 1L8.5 8.5l.94-2.06 2.06-.94-2.06-.94L8.5 2.5l-.94 2.06-2.06.94zm10 10l.94 2.06.94-2.06 2.06-.94-2.06-.94-.94-2.06-.94 2.06-2.06.94z\"/><path d=\"M17.41 7.96l-1.37-1.37c-.4-.4-.92-.59-1.43-.59-.52 0-1.04.2-1.43.59L10.3 9.45l-7.72 7.72c-.78.78-.78 2.05 0 2.83L4 21.41c.39.39.9.59 1.41.59.51 0 1.02-.2 1.41-.59l7.78-7.78 2.81-2.81c.8-.78.8-2.07 0-2.86zM5.41 20L4 18.59l7.72-7.72 1.47 1.35L5.41 20z\"/>\n",
              "  </svg>\n",
              "      </button>\n",
              "      \n",
              "  <style>\n",
              "    .colab-df-container {\n",
              "      display:flex;\n",
              "      flex-wrap:wrap;\n",
              "      gap: 12px;\n",
              "    }\n",
              "\n",
              "    .colab-df-convert {\n",
              "      background-color: #E8F0FE;\n",
              "      border: none;\n",
              "      border-radius: 50%;\n",
              "      cursor: pointer;\n",
              "      display: none;\n",
              "      fill: #1967D2;\n",
              "      height: 32px;\n",
              "      padding: 0 0 0 0;\n",
              "      width: 32px;\n",
              "    }\n",
              "\n",
              "    .colab-df-convert:hover {\n",
              "      background-color: #E2EBFA;\n",
              "      box-shadow: 0px 1px 2px rgba(60, 64, 67, 0.3), 0px 1px 3px 1px rgba(60, 64, 67, 0.15);\n",
              "      fill: #174EA6;\n",
              "    }\n",
              "\n",
              "    [theme=dark] .colab-df-convert {\n",
              "      background-color: #3B4455;\n",
              "      fill: #D2E3FC;\n",
              "    }\n",
              "\n",
              "    [theme=dark] .colab-df-convert:hover {\n",
              "      background-color: #434B5C;\n",
              "      box-shadow: 0px 1px 3px 1px rgba(0, 0, 0, 0.15);\n",
              "      filter: drop-shadow(0px 1px 2px rgba(0, 0, 0, 0.3));\n",
              "      fill: #FFFFFF;\n",
              "    }\n",
              "  </style>\n",
              "\n",
              "      <script>\n",
              "        const buttonEl =\n",
              "          document.querySelector('#df-3b02b449-880c-4965-84f8-720214b2accc button.colab-df-convert');\n",
              "        buttonEl.style.display =\n",
              "          google.colab.kernel.accessAllowed ? 'block' : 'none';\n",
              "\n",
              "        async function convertToInteractive(key) {\n",
              "          const element = document.querySelector('#df-3b02b449-880c-4965-84f8-720214b2accc');\n",
              "          const dataTable =\n",
              "            await google.colab.kernel.invokeFunction('convertToInteractive',\n",
              "                                                     [key], {});\n",
              "          if (!dataTable) return;\n",
              "\n",
              "          const docLinkHtml = 'Like what you see? Visit the ' +\n",
              "            '<a target=\"_blank\" href=https://colab.research.google.com/notebooks/data_table.ipynb>data table notebook</a>'\n",
              "            + ' to learn more about interactive tables.';\n",
              "          element.innerHTML = '';\n",
              "          dataTable['output_type'] = 'display_data';\n",
              "          await google.colab.output.renderOutput(dataTable, element);\n",
              "          const docLink = document.createElement('div');\n",
              "          docLink.innerHTML = docLinkHtml;\n",
              "          element.appendChild(docLink);\n",
              "        }\n",
              "      </script>\n",
              "    </div>\n",
              "  </div>\n",
              "  "
            ]
          },
          "metadata": {},
          "execution_count": 17
        }
      ]
    },
    {
      "cell_type": "code",
      "source": [
        "full_df = full_df.withColumn('date',F.to_date(F.unix_timestamp(F.col('date'), 'yyyy-MM-dd').cast(\"timestamp\")))"
      ],
      "metadata": {
        "id": "K-tL2-yGxhDG"
      },
      "execution_count": null,
      "outputs": []
    },
    {
      "cell_type": "code",
      "source": [
        "dates = (\"2021-01-01\", \"2021-02-28\")\n",
        "df = full_df.where(F.col('date').between(*dates))"
      ],
      "metadata": {
        "id": "VNNwIB2ixhFv"
      },
      "execution_count": null,
      "outputs": []
    },
    {
      "cell_type": "code",
      "source": [
        "print(f\"The total number of samples is {df.count()}, with each sample corresponding to {len(df.columns)} features.\")\n",
        "\n",
        "miss_vals = df.select([F.count(F.when(F.isnull(c), c)).alias(c) for c in df.columns]).collect()[0].asDict()\n",
        "miss_vals = dict(sorted(miss_vals.items(), reverse=True, key=lambda item: item[1]))\n",
        "\n",
        "pd.DataFrame.from_records([miss_vals])"
      ],
      "metadata": {
        "colab": {
          "base_uri": "https://localhost:8080/",
          "height": 191
        },
        "id": "MLCZUw_HxhIm",
        "outputId": "95fa88d0-49bd-487c-cab3-28d7f8d47994"
      },
      "execution_count": null,
      "outputs": [
        {
          "output_type": "stream",
          "name": "stdout",
          "text": [
            "The total number of samples is 13515, with each sample corresponding to 67 features.\n"
          ]
        },
        {
          "output_type": "execute_result",
          "data": {
            "text/plain": [
              "   weekly_icu_admissions  weekly_icu_admissions_per_million  \\\n",
              "0                  13029                              13029   \n",
              "\n",
              "   excess_mortality_cumulative_absolute  excess_mortality_cumulative  \\\n",
              "0                                 13010                        13010   \n",
              "\n",
              "   excess_mortality  excess_mortality_cumulative_per_million  total_boosters  \\\n",
              "0             13010                                    13010           12765   \n",
              "\n",
              "   total_boosters_per_hundred  weekly_hosp_admissions  \\\n",
              "0                       12765                   12581   \n",
              "\n",
              "   weekly_hosp_admissions_per_million  ...  new_cases_smoothed_per_million  \\\n",
              "0                               12581  ...                             412   \n",
              "\n",
              "   new_cases_per_million  total_cases_per_million  new_cases_smoothed  \\\n",
              "0                    382                      378                 353   \n",
              "\n",
              "   new_cases  total_cases  population  iso_code  location  date  \n",
              "0        323          319         105         0         0     0  \n",
              "\n",
              "[1 rows x 67 columns]"
            ],
            "text/html": [
              "\n",
              "  <div id=\"df-eaa418f5-3868-4e29-ad2f-cf448d9c37d1\">\n",
              "    <div class=\"colab-df-container\">\n",
              "      <div>\n",
              "<style scoped>\n",
              "    .dataframe tbody tr th:only-of-type {\n",
              "        vertical-align: middle;\n",
              "    }\n",
              "\n",
              "    .dataframe tbody tr th {\n",
              "        vertical-align: top;\n",
              "    }\n",
              "\n",
              "    .dataframe thead th {\n",
              "        text-align: right;\n",
              "    }\n",
              "</style>\n",
              "<table border=\"1\" class=\"dataframe\">\n",
              "  <thead>\n",
              "    <tr style=\"text-align: right;\">\n",
              "      <th></th>\n",
              "      <th>weekly_icu_admissions</th>\n",
              "      <th>weekly_icu_admissions_per_million</th>\n",
              "      <th>excess_mortality_cumulative_absolute</th>\n",
              "      <th>excess_mortality_cumulative</th>\n",
              "      <th>excess_mortality</th>\n",
              "      <th>excess_mortality_cumulative_per_million</th>\n",
              "      <th>total_boosters</th>\n",
              "      <th>total_boosters_per_hundred</th>\n",
              "      <th>weekly_hosp_admissions</th>\n",
              "      <th>weekly_hosp_admissions_per_million</th>\n",
              "      <th>...</th>\n",
              "      <th>new_cases_smoothed_per_million</th>\n",
              "      <th>new_cases_per_million</th>\n",
              "      <th>total_cases_per_million</th>\n",
              "      <th>new_cases_smoothed</th>\n",
              "      <th>new_cases</th>\n",
              "      <th>total_cases</th>\n",
              "      <th>population</th>\n",
              "      <th>iso_code</th>\n",
              "      <th>location</th>\n",
              "      <th>date</th>\n",
              "    </tr>\n",
              "  </thead>\n",
              "  <tbody>\n",
              "    <tr>\n",
              "      <th>0</th>\n",
              "      <td>13029</td>\n",
              "      <td>13029</td>\n",
              "      <td>13010</td>\n",
              "      <td>13010</td>\n",
              "      <td>13010</td>\n",
              "      <td>13010</td>\n",
              "      <td>12765</td>\n",
              "      <td>12765</td>\n",
              "      <td>12581</td>\n",
              "      <td>12581</td>\n",
              "      <td>...</td>\n",
              "      <td>412</td>\n",
              "      <td>382</td>\n",
              "      <td>378</td>\n",
              "      <td>353</td>\n",
              "      <td>323</td>\n",
              "      <td>319</td>\n",
              "      <td>105</td>\n",
              "      <td>0</td>\n",
              "      <td>0</td>\n",
              "      <td>0</td>\n",
              "    </tr>\n",
              "  </tbody>\n",
              "</table>\n",
              "<p>1 rows × 67 columns</p>\n",
              "</div>\n",
              "      <button class=\"colab-df-convert\" onclick=\"convertToInteractive('df-eaa418f5-3868-4e29-ad2f-cf448d9c37d1')\"\n",
              "              title=\"Convert this dataframe to an interactive table.\"\n",
              "              style=\"display:none;\">\n",
              "        \n",
              "  <svg xmlns=\"http://www.w3.org/2000/svg\" height=\"24px\"viewBox=\"0 0 24 24\"\n",
              "       width=\"24px\">\n",
              "    <path d=\"M0 0h24v24H0V0z\" fill=\"none\"/>\n",
              "    <path d=\"M18.56 5.44l.94 2.06.94-2.06 2.06-.94-2.06-.94-.94-2.06-.94 2.06-2.06.94zm-11 1L8.5 8.5l.94-2.06 2.06-.94-2.06-.94L8.5 2.5l-.94 2.06-2.06.94zm10 10l.94 2.06.94-2.06 2.06-.94-2.06-.94-.94-2.06-.94 2.06-2.06.94z\"/><path d=\"M17.41 7.96l-1.37-1.37c-.4-.4-.92-.59-1.43-.59-.52 0-1.04.2-1.43.59L10.3 9.45l-7.72 7.72c-.78.78-.78 2.05 0 2.83L4 21.41c.39.39.9.59 1.41.59.51 0 1.02-.2 1.41-.59l7.78-7.78 2.81-2.81c.8-.78.8-2.07 0-2.86zM5.41 20L4 18.59l7.72-7.72 1.47 1.35L5.41 20z\"/>\n",
              "  </svg>\n",
              "      </button>\n",
              "      \n",
              "  <style>\n",
              "    .colab-df-container {\n",
              "      display:flex;\n",
              "      flex-wrap:wrap;\n",
              "      gap: 12px;\n",
              "    }\n",
              "\n",
              "    .colab-df-convert {\n",
              "      background-color: #E8F0FE;\n",
              "      border: none;\n",
              "      border-radius: 50%;\n",
              "      cursor: pointer;\n",
              "      display: none;\n",
              "      fill: #1967D2;\n",
              "      height: 32px;\n",
              "      padding: 0 0 0 0;\n",
              "      width: 32px;\n",
              "    }\n",
              "\n",
              "    .colab-df-convert:hover {\n",
              "      background-color: #E2EBFA;\n",
              "      box-shadow: 0px 1px 2px rgba(60, 64, 67, 0.3), 0px 1px 3px 1px rgba(60, 64, 67, 0.15);\n",
              "      fill: #174EA6;\n",
              "    }\n",
              "\n",
              "    [theme=dark] .colab-df-convert {\n",
              "      background-color: #3B4455;\n",
              "      fill: #D2E3FC;\n",
              "    }\n",
              "\n",
              "    [theme=dark] .colab-df-convert:hover {\n",
              "      background-color: #434B5C;\n",
              "      box-shadow: 0px 1px 3px 1px rgba(0, 0, 0, 0.15);\n",
              "      filter: drop-shadow(0px 1px 2px rgba(0, 0, 0, 0.3));\n",
              "      fill: #FFFFFF;\n",
              "    }\n",
              "  </style>\n",
              "\n",
              "      <script>\n",
              "        const buttonEl =\n",
              "          document.querySelector('#df-eaa418f5-3868-4e29-ad2f-cf448d9c37d1 button.colab-df-convert');\n",
              "        buttonEl.style.display =\n",
              "          google.colab.kernel.accessAllowed ? 'block' : 'none';\n",
              "\n",
              "        async function convertToInteractive(key) {\n",
              "          const element = document.querySelector('#df-eaa418f5-3868-4e29-ad2f-cf448d9c37d1');\n",
              "          const dataTable =\n",
              "            await google.colab.kernel.invokeFunction('convertToInteractive',\n",
              "                                                     [key], {});\n",
              "          if (!dataTable) return;\n",
              "\n",
              "          const docLinkHtml = 'Like what you see? Visit the ' +\n",
              "            '<a target=\"_blank\" href=https://colab.research.google.com/notebooks/data_table.ipynb>data table notebook</a>'\n",
              "            + ' to learn more about interactive tables.';\n",
              "          element.innerHTML = '';\n",
              "          dataTable['output_type'] = 'display_data';\n",
              "          await google.colab.output.renderOutput(dataTable, element);\n",
              "          const docLink = document.createElement('div');\n",
              "          docLink.innerHTML = docLinkHtml;\n",
              "          element.appendChild(docLink);\n",
              "        }\n",
              "      </script>\n",
              "    </div>\n",
              "  </div>\n",
              "  "
            ]
          },
          "metadata": {},
          "execution_count": 20
        }
      ]
    },
    {
      "cell_type": "code",
      "source": [
        "df.sort(\"continent\").select(\"iso_code\",\"continent\",\"location\").show(5)\n",
        "df = df.fillna({'continent':'OWID'})\n",
        "df.select(\"tests_units\").distinct().show()\n",
        "df = df.fillna({'tests_units':'no info'})\n",
        "df = df.fillna(0)\n",
        "miss_vals = df.select([F.count(F.when(F.isnull(c), c)).alias(c) for c in df.columns]).collect()[0].asDict()\n",
        "if any(list(miss_vals.values())) != 0:\n",
        "    print(\"There are still missing values in the DataFrame.\")\n",
        "else:\n",
        "    print(\"All missing values have been taken care of.\")"
      ],
      "metadata": {
        "colab": {
          "base_uri": "https://localhost:8080/"
        },
        "id": "ftwQzEBXxhLO",
        "outputId": "30f53837-9bdf-4eb7-f974-1295e871ae43"
      },
      "execution_count": null,
      "outputs": [
        {
          "output_type": "stream",
          "name": "stdout",
          "text": [
            "+--------+---------+-------------+\n",
            "|iso_code|continent|     location|\n",
            "+--------+---------+-------------+\n",
            "|OWID_NAM|     null|North America|\n",
            "|OWID_NAM|     null|North America|\n",
            "|OWID_NAM|     null|North America|\n",
            "|OWID_NAM|     null|North America|\n",
            "|OWID_NAM|     null|North America|\n",
            "+--------+---------+-------------+\n",
            "only showing top 5 rows\n",
            "\n",
            "+---------------+\n",
            "|    tests_units|\n",
            "+---------------+\n",
            "|           null|\n",
            "|  people tested|\n",
            "| samples tested|\n",
            "|tests performed|\n",
            "|  units unclear|\n",
            "+---------------+\n",
            "\n",
            "All missing values have been taken care of.\n"
          ]
        }
      ]
    },
    {
      "cell_type": "code",
      "source": [
        "miss_vals = df.select([F.count(F.when(F.isnull(c), c)).alias(c) for c in df.columns]).collect()[0].asDict()\n",
        "if any(list(miss_vals.values())) != 0:\n",
        "    print(\"There are still missing values in the DataFrame.\")\n",
        "else:\n",
        "    print(\"All missing values have been taken care of.\")"
      ],
      "metadata": {
        "colab": {
          "base_uri": "https://localhost:8080/"
        },
        "id": "6Iv4a-25xhOD",
        "outputId": "13df00d5-edbe-4f8f-c1da-6d57f34bcbb3"
      },
      "execution_count": null,
      "outputs": [
        {
          "output_type": "stream",
          "name": "stdout",
          "text": [
            "All missing values have been taken care of.\n"
          ]
        }
      ]
    },
    {
      "cell_type": "code",
      "source": [
        "def OutlierDetector(dataframe, features, alpha=1.5):\n",
        "    \"\"\"\n",
        "    Args:\n",
        "        dataframe (pyspark.sql.dataframe.DataFrame):\n",
        "            the DataFrame hosting the data\n",
        "        features (string or List):\n",
        "            List of features (columns) for which we wish to identify outliers.\n",
        "            If set equal to 'all', outliers are identified with respect to all features.\n",
        "        alpha (double):\n",
        "            The parameter that defines the decision boundary (see markdown above)\n",
        "    \"\"\"\n",
        "    feat_types = dict(dataframe.dtypes)\n",
        "    if features == 'all':\n",
        "        features = dataframe.columns\n",
        "        \n",
        "    outliers_cols = []\n",
        "    \n",
        "    for feat in features:\n",
        "        # We only care for quantitative features\n",
        "        if feat_types[feat] == 'double':\n",
        "            Q1, Q3 = dataframe.approxQuantile(feat, [0.25, 0.75], 0)\n",
        "            R = Q3 - Q1\n",
        "            lower_bound = Q1 - (R * alpha)\n",
        "            upper_bound = Q3 + (R * alpha)\n",
        "            \n",
        "            # In this way we construct a query, which can be matched to a DataFrame column, thus returning a new\n",
        "            # column where every point that corresponds to an Outlier has a boolean value set to True\n",
        "            outliers_cols.append(F.when(~F.col(feat).between(lower_bound, upper_bound), True).alias(feat + '_outlier'))\n",
        "    \n",
        "    # Sample points that do not correspond to outliers correspond to a False value for the new column\n",
        "    outlier_df = dataframe.select(*outliers_cols)\n",
        "    outlier_df = outlier_df.fillna(False)\n",
        "    return outlier_df"
      ],
      "metadata": {
        "id": "HmOen2HwxhQs"
      },
      "execution_count": null,
      "outputs": []
    },
    {
      "cell_type": "code",
      "source": [
        "out_df = OutlierDetector(dataframe=df, features=['new_cases'], alpha=1.5)\n",
        "out_df.show(5)"
      ],
      "metadata": {
        "colab": {
          "base_uri": "https://localhost:8080/"
        },
        "id": "bRWqwPJRxhUL",
        "outputId": "45c1a7f3-1523-468a-e73b-8564fb8235ce"
      },
      "execution_count": null,
      "outputs": [
        {
          "output_type": "stream",
          "name": "stdout",
          "text": [
            "+-----------------+\n",
            "|new_cases_outlier|\n",
            "+-----------------+\n",
            "|            false|\n",
            "|            false|\n",
            "|            false|\n",
            "|            false|\n",
            "|            false|\n",
            "+-----------------+\n",
            "only showing top 5 rows\n",
            "\n"
          ]
        }
      ]
    },
    {
      "cell_type": "code",
      "source": [
        "if df.count() != df.select(['location','date']).distinct().count():\n",
        "    print(\"There are duplicate entries present in the DataFrame.\")\n",
        "else:\n",
        "    print(\"Either there are no duplicate entries present in the DataFrame, or all of them have already been removed).\")"
      ],
      "metadata": {
        "colab": {
          "base_uri": "https://localhost:8080/"
        },
        "id": "JRnQWar5yiH6",
        "outputId": "f4b9afcb-9be9-4df5-d613-05add513c6bc"
      },
      "execution_count": null,
      "outputs": [
        {
          "output_type": "stream",
          "name": "stdout",
          "text": [
            "Either there are no duplicate entries present in the DataFrame, or all of them have already been removed).\n"
          ]
        }
      ]
    },
    {
      "cell_type": "code",
      "source": [
        "import matplotlib\n",
        "import numpy as np\n",
        "import matplotlib.pyplot as plt\n",
        "import seaborn as sns\n",
        "\n",
        "from matplotlib.colors import ListedColormap, LinearSegmentedColormap, TwoSlopeNorm\n",
        "from mpl_toolkits.axes_grid1 import make_axes_locatable\n",
        "\n",
        "def CustomCmap(from_rgb,to_rgb):\n",
        "\n",
        "    # from color r,g,b\n",
        "    r1,g1,b1 = from_rgb\n",
        "\n",
        "    # to color r,g,b\n",
        "    r2,g2,b2 = to_rgb\n",
        "\n",
        "    cdict = {'red': ((0, r1, r1),\n",
        "                   (1, r2, r2)),\n",
        "           'green': ((0, g1, g1),\n",
        "                    (1, g2, g2)),\n",
        "           'blue': ((0, b1, b1),\n",
        "                   (1, b2, b2))}\n",
        "\n",
        "    cmap = LinearSegmentedColormap('custom_cmap', cdict)\n",
        "    return cmap\n",
        "\n",
        "mycmap = CustomCmap([1.0, 1.0, 1.0], [72/255, 99/255, 147/255])\n",
        "mycmap_r = CustomCmap([72/255, 99/255, 147/255], [1.0, 1.0, 1.0])\n",
        "\n",
        "mycol = (72/255, 99/255, 147/255)\n",
        "mycomplcol = (129/255, 143/255, 163/255)\n",
        "othercol1 = (135/255, 121/255, 215/255)\n",
        "othercol2 = (57/255, 119/255, 171/255)\n",
        "othercol3 = (68/255, 81/255, 91/255)\n",
        "othercol4 = (73/255, 149/255, 139/255)"
      ],
      "metadata": {
        "id": "udq9Lqt7yiKT"
      },
      "execution_count": null,
      "outputs": []
    },
    {
      "cell_type": "code",
      "source": [
        "dates_frame = df.select(\"date\").distinct().orderBy('date').collect()\n",
        "dates_list = [str(dates_frame[x][0]) for x in range(len(dates_frame))]"
      ],
      "metadata": {
        "id": "VBCK5wwUyiQW"
      },
      "execution_count": null,
      "outputs": []
    },
    {
      "cell_type": "code",
      "source": [
        "df_for_mort = df.filter(F.col('population') != 0.0).withColumn(\"mortality\", F.col(\"total_deaths\")/F.col(\"population\"))\n",
        "\n",
        "for i, this_day in enumerate(dates_list):\n",
        "    this_day_top_10 = df_for_mort.filter(F.col('date') == this_day).orderBy(\"mortality\", ascending=False).select([\"location\",\"mortality\"]).take(10)\n",
        "    if i == 0:\n",
        "        ct_list = [(this_day_top_10[x][0],this_day_top_10[x][1]) for x in range(10)]\n",
        "        print(\"During \"+this_day+\", the top 10 countries with the highest mortality rate were:\")\n",
        "        for country, instance in ct_list:\n",
        "            print(f\"▶ {country}, with mortality rate {100*instance:.2f}%.\")\n",
        "        new_set = set(ct_list[x][0] for x in range(10))\n",
        "    elif i == len(dates_list)-1:\n",
        "        ct_list = [(this_day_top_10[x][0],this_day_top_10[x][1]) for x in range(10)]\n",
        "        print(\"During \"+this_day+\", the top 10 countries with the highest mortality rate were:\")\n",
        "        for country, instance in ct_list:\n",
        "            print(f\"▶ {country}, with mortality rate {100*instance:.2f}%.\")\n",
        "    else:\n",
        "        new_set = set(this_day_top_10[x][0] for x in range(10))\n",
        "        if new_set != old_set:\n",
        "            left_out = old_set-new_set\n",
        "            new_additions = new_set-old_set\n",
        "            print(\"This was the top ten until \"+this_day+\", when \"+\", \".join(str(s) for s in new_additions)+\" joined the list, replacing \"+\", \".join(str(s) for s in left_out)+\".\")\n",
        "    new_set, old_set = set(), new_set"
      ],
      "metadata": {
        "colab": {
          "base_uri": "https://localhost:8080/"
        },
        "id": "52ltixG7yiVQ",
        "outputId": "c51c54eb-6b90-4480-8473-d0e5221da785"
      },
      "execution_count": null,
      "outputs": [
        {
          "output_type": "stream",
          "name": "stdout",
          "text": [
            "During 2021-01-01, the top 10 countries with the highest mortality rate were:\n",
            "▶ Peru, with mortality rate 0.28%.\n",
            "▶ San Marino, with mortality rate 0.17%.\n",
            "▶ Belgium, with mortality rate 0.17%.\n",
            "▶ Slovenia, with mortality rate 0.13%.\n",
            "▶ Bosnia and Herzegovina, with mortality rate 0.13%.\n",
            "▶ Italy, with mortality rate 0.12%.\n",
            "▶ North Macedonia, with mortality rate 0.12%.\n",
            "▶ Liechtenstein, with mortality rate 0.12%.\n",
            "▶ Bulgaria, with mortality rate 0.11%.\n",
            "▶ Czechia, with mortality rate 0.11%.\n",
            "This was the top ten until 2021-01-08, when United Kingdom joined the list, replacing Bulgaria.\n",
            "This was the top ten until 2021-01-18, when Gibraltar joined the list, replacing North Macedonia.\n",
            "This was the top ten until 2021-02-03, when North Macedonia joined the list, replacing Liechtenstein.\n",
            "This was the top ten until 2021-02-05, when United States joined the list, replacing North Macedonia.\n",
            "This was the top ten until 2021-02-08, when North Macedonia joined the list, replacing United States.\n",
            "This was the top ten until 2021-02-09, when Portugal joined the list, replacing North Macedonia.\n",
            "This was the top ten until 2021-02-23, when Montenegro joined the list, replacing Bosnia and Herzegovina.\n",
            "During 2021-02-28, the top 10 countries with the highest mortality rate were:\n",
            "▶ Peru, with mortality rate 0.37%.\n",
            "▶ Gibraltar, with mortality rate 0.28%.\n",
            "▶ San Marino, with mortality rate 0.22%.\n",
            "▶ Belgium, with mortality rate 0.19%.\n",
            "▶ Czechia, with mortality rate 0.19%.\n",
            "▶ Slovenia, with mortality rate 0.18%.\n",
            "▶ United Kingdom, with mortality rate 0.18%.\n",
            "▶ Italy, with mortality rate 0.16%.\n",
            "▶ Portugal, with mortality rate 0.16%.\n",
            "▶ Montenegro, with mortality rate 0.16%.\n"
          ]
        }
      ]
    },
    {
      "cell_type": "code",
      "source": [
        "for i, this_day in enumerate(dates_list):\n",
        "    this_day_top_10 = df.filter(F.col('date') == this_day).orderBy(\"total_cases_per_million\", ascending=False).select([\"location\",\"total_cases_per_million\"]).take(10)\n",
        "    if i == 0:\n",
        "        ct_list = [(this_day_top_10[x][0],this_day_top_10[x][1]) for x in range(10)]\n",
        "        print(\"During \"+this_day+\", the top 10 countries with the highest number of total cases per million were:\")\n",
        "        for country, instance in ct_list:\n",
        "            print(f\"▶ {country}, with {instance} total cases per million.\")\n",
        "        new_set = set(ct_list[x][0] for x in range(10))\n",
        "    elif i == len(dates_list)-1:\n",
        "        ct_list = [(this_day_top_10[x][0],this_day_top_10[x][1]) for x in range(10)]\n",
        "        print(\"During \"+this_day+\", the top 10 countries with the highest number of total cases per million were:\")\n",
        "        for country, instance in ct_list:\n",
        "            print(f\"▶ {country}, with {instance} total cases per million.\")\n",
        "    else:\n",
        "        new_set = set(this_day_top_10[x][0] for x in range(10))\n",
        "        if new_set != old_set:\n",
        "            left_out = old_set-new_set\n",
        "            new_additions = new_set-old_set\n",
        "            print(\"This was the top ten until \"+this_day+\", when \"+\", \".join(str(s) for s in new_additions)+\" joined the list, replacing \"+\", \".join(str(s) for s in left_out)+\".\")\n",
        "    new_set, old_set = set(), new_set"
      ],
      "metadata": {
        "colab": {
          "base_uri": "https://localhost:8080/"
        },
        "id": "7M3kHjB7yiXn",
        "outputId": "10c7b848-54f8-40f2-afa4-8b026284c067"
      },
      "execution_count": null,
      "outputs": [
        {
          "output_type": "stream",
          "name": "stdout",
          "text": [
            "During 2021-01-01, the top 10 countries with the highest number of total cases per million were:\n",
            "▶ Andorra, with 104933.164 total cases per million.\n",
            "▶ Montenegro, with 77364.736 total cases per million.\n",
            "▶ Luxembourg, with 73115.905 total cases per million.\n",
            "▶ San Marino, with 70097.03 total cases per million.\n",
            "▶ Czechia, with 68256.644 total cases per million.\n",
            "▶ Gibraltar, with 65655.516 total cases per million.\n",
            "▶ United States, with 61189.671 total cases per million.\n",
            "▶ French Polynesia, with 59907.834 total cases per million.\n",
            "▶ Slovenia, with 59627.954 total cases per million.\n",
            "▶ Liechtenstein, with 58686.673 total cases per million.\n",
            "This was the top ten until 2021-01-07, when Panama joined the list, replacing French Polynesia.\n",
            "This was the top ten until 2021-01-13, when Slovakia joined the list, replacing Liechtenstein.\n",
            "This was the top ten until 2021-02-05, when Portugal joined the list, replacing Panama.\n",
            "This was the top ten until 2021-02-10, when Israel joined the list, replacing Portugal.\n",
            "During 2021-02-28, the top 10 countries with the highest number of total cases per million were:\n",
            "▶ Andorra, with 140471.081 total cases per million.\n",
            "▶ Gibraltar, with 125819.952 total cases per million.\n",
            "▶ Montenegro, with 120744.971 total cases per million.\n",
            "▶ Czechia, with 115201.072 total cases per million.\n",
            "▶ San Marino, with 109261.982 total cases per million.\n",
            "▶ Slovakia, with 108027.497 total cases per million.\n",
            "▶ Slovenia, with 91441.236 total cases per million.\n",
            "▶ Luxembourg, with 86812.83 total cases per million.\n",
            "▶ United States, with 86351.972 total cases per million.\n",
            "▶ Israel, with 83500.915 total cases per million.\n"
          ]
        }
      ]
    },
    {
      "cell_type": "code",
      "source": [
        "dt_ord = df.orderBy(\"date\", ascending=True).groupBy(\"date\")\n",
        "\n",
        "hosps = dt_ord.agg(F.sum(\"hosp_patients\")).collect()\n",
        "hosps = [hosps[i][1] for i in range(len(hosps))]\n",
        "\n",
        "icus = dt_ord.agg(F.sum(\"icu_patients\")).collect()\n",
        "icus = [icus[i][1] for i in range(len(icus))]\n",
        "\n",
        "sns.set(style = \"darkgrid\")\n",
        "\n",
        "alt_dts_list = [dt.replace('2021-', '') for dt in dates_list]\n",
        "tick_marks = np.arange(len(alt_dts_list))\n",
        "\n",
        "fig, [ax1,ax2] = plt.subplots(1, 2, figsize=(14,5))\n",
        "\n",
        "for pat, col, style, ax, where in zip([hosps,icus], [mycol, mycomplcol],\n",
        "                                      ['solid', 'dashed'], [ax1,ax2], ['Normal Beds','ICUs']): \n",
        "    ax.plot(alt_dts_list, pat, linestyle=style, color=col)\n",
        "    ax.set_xlabel(\"Date\")\n",
        "    ax.set_ylabel(\"Number of Patients\")\n",
        "    ax.set_title(f\"Daily Number of Patients in {where}\", fontsize=14)\n",
        "    ax.set_xticks(tick_marks[::5])\n",
        "    ax.set_xticklabels(alt_dts_list[::5], rotation=45)\n",
        "    \n",
        "plt.show()\n",
        "\n",
        "matplotlib.rc_file_defaults()"
      ],
      "metadata": {
        "colab": {
          "base_uri": "https://localhost:8080/",
          "height": 373
        },
        "id": "GAweV8OYyiZj",
        "outputId": "35565567-cfa2-4dab-b1ed-64085719c161"
      },
      "execution_count": null,
      "outputs": [
        {
          "output_type": "display_data",
          "data": {
            "text/plain": [
              "<Figure size 1008x360 with 2 Axes>"
            ],
            "image/png": "[encoded data removed]"
          },
          "metadata": {}
        }
      ]
    },
    {
      "cell_type": "code",
      "source": [
        "import requests, zipfile\n",
        "from io import BytesIO\n",
        "\n",
        "zip_file_url = \"https://srigas.me/kaggle/owid-nb-data.zip\"\n",
        "\n",
        "request = requests.get(zip_file_url)\n",
        "zipDocument = zipfile.ZipFile(BytesIO(request.content))\n",
        "\n",
        "zipDocument.extractall()"
      ],
      "metadata": {
        "id": "m5j3m3DuyidL"
      },
      "execution_count": null,
      "outputs": []
    },
    {
      "cell_type": "code",
      "source": [
        "!pip install geopandas\n",
        "import geopandas as gpd\n",
        "\n",
        "shapefile = 'countries.shp'\n",
        "geo_df = gpd.read_file(shapefile)[['ADMIN','ADM0_A3','geometry']]\n",
        "geo_df.columns = ['location', 'iso_code', 'geometry']\n",
        "geo_df = geo_df.drop(geo_df.loc[geo_df['location'] == 'Antarctica'].index) # exclude Antarctica"
      ],
      "metadata": {
        "colab": {
          "base_uri": "https://localhost:8080/"
        },
        "id": "TGgUgMHPytx8",
        "outputId": "e5486d9d-c725-4490-9777-9984ae59e0d9"
      },
      "execution_count": null,
      "outputs": [
        {
          "output_type": "stream",
          "name": "stdout",
          "text": [
            "Collecting geopandas\n",
            "  Downloading geopandas-0.10.2-py2.py3-none-any.whl (1.0 MB)\n",
            "\u001b[K     |████████████████████████████████| 1.0 MB 7.7 MB/s \n",
            "\u001b[?25hRequirement already satisfied: shapely>=1.6 in /usr/local/lib/python3.7/dist-packages (from geopandas) (1.8.1.post1)\n",
            "Collecting fiona>=1.8\n",
            "  Downloading Fiona-1.8.21-cp37-cp37m-manylinux2014_x86_64.whl (16.7 MB)\n",
            "\u001b[K     |████████████████████████████████| 16.7 MB 276 kB/s \n",
            "\u001b[?25hRequirement already satisfied: pandas>=0.25.0 in /usr/local/lib/python3.7/dist-packages (from geopandas) (1.3.5)\n",
            "Collecting pyproj>=2.2.0\n",
            "  Downloading pyproj-3.2.1-cp37-cp37m-manylinux2010_x86_64.whl (6.3 MB)\n",
            "\u001b[K     |████████████████████████████████| 6.3 MB 40.0 MB/s \n",
            "\u001b[?25hCollecting munch\n",
            "  Downloading munch-2.5.0-py2.py3-none-any.whl (10 kB)\n",
            "Requirement already satisfied: six>=1.7 in /usr/local/lib/python3.7/dist-packages (from fiona>=1.8->geopandas) (1.15.0)\n",
            "Collecting cligj>=0.5\n",
            "  Downloading cligj-0.7.2-py3-none-any.whl (7.1 kB)\n",
            "Requirement already satisfied: attrs>=17 in /usr/local/lib/python3.7/dist-packages (from fiona>=1.8->geopandas) (21.4.0)\n",
            "Requirement already satisfied: setuptools in /usr/local/lib/python3.7/dist-packages (from fiona>=1.8->geopandas) (57.4.0)\n",
            "Collecting click-plugins>=1.0\n",
            "  Downloading click_plugins-1.1.1-py2.py3-none-any.whl (7.5 kB)\n",
            "Requirement already satisfied: certifi in /usr/local/lib/python3.7/dist-packages (from fiona>=1.8->geopandas) (2021.10.8)\n",
            "Requirement already satisfied: click>=4.0 in /usr/local/lib/python3.7/dist-packages (from fiona>=1.8->geopandas) (7.1.2)\n",
            "Requirement already satisfied: pytz>=2017.3 in /usr/local/lib/python3.7/dist-packages (from pandas>=0.25.0->geopandas) (2022.1)\n",
            "Requirement already satisfied: numpy>=1.17.3 in /usr/local/lib/python3.7/dist-packages (from pandas>=0.25.0->geopandas) (1.21.6)\n",
            "Requirement already satisfied: python-dateutil>=2.7.3 in /usr/local/lib/python3.7/dist-packages (from pandas>=0.25.0->geopandas) (2.8.2)\n",
            "Installing collected packages: munch, cligj, click-plugins, pyproj, fiona, geopandas\n",
            "Successfully installed click-plugins-1.1.1 cligj-0.7.2 fiona-1.8.21 geopandas-0.10.2 munch-2.5.0 pyproj-3.2.1\n"
          ]
        }
      ]
    },
    {
      "cell_type": "code",
      "source": [
        "exc_dates_list = df.filter(F.col('excess_mortality') != 0.0).select(['date']).distinct().orderBy('date').collect()\n",
        "exc_dates_list = [str(exc_dates_list[i][0]) for i in range(len(exc_dates_list))]"
      ],
      "metadata": {
        "id": "uP65CJ4Iyt3R"
      },
      "execution_count": null,
      "outputs": []
    },
    {
      "cell_type": "code",
      "source": [
        "european_df = df.filter(F.col('continent') == 'Europe').filter(F.col('excess_mortality') != 0.0)\n",
        "european_cts = european_df.select(['location']).distinct().collect()\n",
        "european_cts = [european_cts[i][0] for i in range(len(european_cts)) if european_df.filter(F.col('location') == european_cts[i][0]).count() == len(exc_dates_list)]\n",
        "print(f'{len(european_cts)} European countries are chosen for this analysis.')"
      ],
      "metadata": {
        "colab": {
          "base_uri": "https://localhost:8080/"
        },
        "id": "zDOtM3ZMyt--",
        "outputId": "ab35b29a-ccb6-4ed5-d79e-81416bc52a37"
      },
      "execution_count": null,
      "outputs": [
        {
          "output_type": "stream",
          "name": "stdout",
          "text": [
            "31 European countries are chosen for this analysis.\n"
          ]
        }
      ]
    },
    {
      "cell_type": "code",
      "source": [
        "from pyspark.sql.functions import monotonically_increasing_id, row_number\n",
        "from pyspark.sql.window import Window\n",
        "\n",
        "eu_cts_df = european_df.filter(F.col('location') == european_cts[0]).select(['excess_mortality']).withColumnRenamed(\"excess_mortality\", european_cts[0])\n",
        "# required for the proper join of the following DataFrames\n",
        "eu_cts_df = eu_cts_df.withColumn('row_index', row_number().over(Window.partitionBy(F.lit(0)).orderBy(monotonically_increasing_id())))\n",
        "\n",
        "for country in european_cts[1:]:\n",
        "    new_ct_df = european_df.filter(F.col('location') == country).select(['excess_mortality']).withColumnRenamed(\"excess_mortality\", country)\n",
        "    new_ct_df = new_ct_df.withColumn('row_index', row_number().over(Window.partitionBy(F.lit(0)).orderBy(monotonically_increasing_id())))\n",
        "    \n",
        "    eu_cts_df = eu_cts_df.join(new_ct_df, on=[\"row_index\"])\n",
        "    \n",
        "eu_cts_df = eu_cts_df.drop(\"row_index\")"
      ],
      "metadata": {
        "id": "dvWoscMOyuBn"
      },
      "execution_count": null,
      "outputs": []
    },
    {
      "cell_type": "code",
      "source": [
        "from pyspark.ml.stat import Correlation\n",
        "from pyspark.ml.feature import VectorAssembler\n",
        "\n",
        "vector_col = \"corr_features\"\n",
        "assembler = VectorAssembler(inputCols=eu_cts_df.columns, outputCol=vector_col)\n",
        "df_vector = assembler.transform(eu_cts_df).select(vector_col)\n",
        "\n",
        "matrix = Correlation.corr(df_vector, vector_col, 'pearson')\n",
        "cor_np = matrix.collect()[0][matrix.columns[0]].toArray()"
      ],
      "metadata": {
        "colab": {
          "base_uri": "https://localhost:8080/"
        },
        "id": "WkE60DDGyuEf",
        "outputId": "27aba272-3006-4444-c40c-235fc06b0399"
      },
      "execution_count": null,
      "outputs": [
        {
          "output_type": "stream",
          "name": "stderr",
          "text": [
            "/usr/local/lib/python3.7/dist-packages/pyspark/sql/context.py:127: FutureWarning: Deprecated in 3.0.0. Use SparkSession.builder.getOrCreate() instead.\n",
            "  FutureWarning\n"
          ]
        }
      ]
    },
    {
      "cell_type": "code",
      "source": [
        "fig, ax = plt.subplots(figsize=(13,10))\n",
        "\n",
        "sns.heatmap(cor_np, linewidths=.5, ax=ax, vmin=0.8, vmax=1, cmap=mycmap,\n",
        "            xticklabels=european_cts, yticklabels=european_cts)\n",
        "ax.set_title('Correlation Matrix for Excess Mortality values per Country', fontsize=16)\n",
        "plt.show()"
      ],
      "metadata": {
        "colab": {
          "base_uri": "https://localhost:8080/",
          "height": 755
        },
        "id": "gCRYNTb6yuHH",
        "outputId": "c0c8624e-22e0-4865-f49e-50474378d065"
      },
      "execution_count": null,
      "outputs": [
        {
          "output_type": "display_data",
          "data": {
            "text/plain": [
              "<Figure size 1300x1000 with 2 Axes>"
            ],
            "image/png": "[encoded data removed]"
          },
          "metadata": {}
        }
      ]
    }
  ]
}